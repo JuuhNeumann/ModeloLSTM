{
  "nbformat": 4,
  "nbformat_minor": 0,
  "metadata": {
    "colab": {
      "provenance": [],
      "collapsed_sections": []
    },
    "kernelspec": {
      "name": "python3",
      "display_name": "Python 3"
    },
    "language_info": {
      "name": "python"
    }
  },
  "cells": [
    {
      "cell_type": "code",
      "execution_count": null,
      "metadata": {
        "id": "d5OEeTm7CbIr"
      },
      "outputs": [],
      "source": [
        "import numpy as np\n",
        "import math\n",
        "import pandas as pd"
      ]
    },
    {
      "cell_type": "code",
      "source": [
        "from google.colab import drive\n",
        "drive.mount('/content/drive')"
      ],
      "metadata": {
        "colab": {
          "base_uri": "https://localhost:8080/"
        },
        "id": "dY4iXOPit5OT",
        "outputId": "727ee7b2-d7ef-4113-f873-61de20a99ecc"
      },
      "execution_count": null,
      "outputs": [
        {
          "output_type": "stream",
          "name": "stdout",
          "text": [
            "Mounted at /content/drive\n"
          ]
        }
      ]
    },
    {
      "cell_type": "code",
      "source": [
        "import folium"
      ],
      "metadata": {
        "id": "xEzHBJM__RQ5"
      },
      "execution_count": null,
      "outputs": []
    },
    {
      "cell_type": "markdown",
      "source": [
        "VISUALIZAÇÃO DO MAPA"
      ],
      "metadata": {
        "id": "P4VgXh1a8fj6"
      }
    },
    {
      "cell_type": "code",
      "source": [
        "mapa = folium.Map(\n",
        "    location = [-22.5046, -43.1823],\n",
        "    zoom_start=10\n",
        ")"
      ],
      "metadata": {
        "id": "DnXQMVce_Syo"
      },
      "execution_count": null,
      "outputs": []
    },
    {
      "cell_type": "code",
      "source": [
        "#ponta inferior esquerda: -22.543161606352932, -43.26639483802907\n",
        "folium.Marker(\n",
        "    location=[-22.543161606352932, -43.26639483802907],\n",
        "    popup='<i>-22.543161606352932, -43.26639483802907</i>',\n",
        "    tooltip='Clique aqui',\n",
        "    icon=folium.Icon(color='red')\n",
        ").add_to(mapa)"
      ],
      "metadata": {
        "id": "ebT733wbwZaS",
        "colab": {
          "base_uri": "https://localhost:8080/"
        },
        "outputId": "b3002801-5650-4e2d-f5b9-25ab9a7690e3"
      },
      "execution_count": null,
      "outputs": [
        {
          "output_type": "execute_result",
          "data": {
            "text/plain": [
              "<folium.map.Marker at 0x7fa440ff3090>"
            ]
          },
          "metadata": {},
          "execution_count": 5
        }
      ]
    },
    {
      "cell_type": "code",
      "source": [
        "#ponta superior direita: -22.468308146632634, -43.090613595700944\n",
        "folium.Marker(\n",
        "    location=[-22.468308146632634, -43.090613595700944],\n",
        "    popup='<i>-22.468308146632634, -43.090613595700944</i>',\n",
        "    tooltip='Clique aqui',\n",
        "    icon=folium.Icon(color='red')\n",
        ").add_to(mapa)"
      ],
      "metadata": {
        "id": "4XY0YdYUwZlw",
        "colab": {
          "base_uri": "https://localhost:8080/"
        },
        "outputId": "589676a7-5bba-452d-aeec-18a795ceaf89"
      },
      "execution_count": null,
      "outputs": [
        {
          "output_type": "execute_result",
          "data": {
            "text/plain": [
              "<folium.map.Marker at 0x7fa4420bd610>"
            ]
          },
          "metadata": {},
          "execution_count": 6
        }
      ]
    },
    {
      "cell_type": "code",
      "source": [
        "#ponta superior esquerda: -22.471480725131634, -43.26708148350691\n",
        "folium.Marker(\n",
        "    location=[-22.471480725131634, -43.26708148350691],\n",
        "    popup='<i>-22.471480725131634, -43.26708148350691</i>',\n",
        "    tooltip='Clique aqui',\n",
        "    icon=folium.Icon(color='red')\n",
        ").add_to(mapa)"
      ],
      "metadata": {
        "id": "gyicZkJNwZrw",
        "colab": {
          "base_uri": "https://localhost:8080/"
        },
        "outputId": "9f31e8db-40b4-42f6-db9f-54ef1ef0e099"
      },
      "execution_count": null,
      "outputs": [
        {
          "output_type": "execute_result",
          "data": {
            "text/plain": [
              "<folium.map.Marker at 0x7fa440fef210>"
            ]
          },
          "metadata": {},
          "execution_count": 7
        }
      ]
    },
    {
      "cell_type": "code",
      "source": [
        "#ponta inferior direita: -22.54379578448828, -43.089926950223095\n",
        "folium.Marker(\n",
        "    location=[-22.54379578448828, -43.089926950223095],\n",
        "    popup='<i>-22.54379578448828, -43.089926950223095</i>',\n",
        "    tooltip='Clique aqui',\n",
        "    icon=folium.Icon(color='red')\n",
        ").add_to(mapa)"
      ],
      "metadata": {
        "id": "dx-eFpJPwZ0Q",
        "colab": {
          "base_uri": "https://localhost:8080/"
        },
        "outputId": "6447908d-28fa-447f-ea33-9854ead771f1"
      },
      "execution_count": null,
      "outputs": [
        {
          "output_type": "execute_result",
          "data": {
            "text/plain": [
              "<folium.map.Marker at 0x7fa441040e50>"
            ]
          },
          "metadata": {},
          "execution_count": 8
        }
      ]
    },
    {
      "cell_type": "code",
      "source": [
        "mapa"
      ],
      "metadata": {
        "id": "xjF0MjPIAjtZ",
        "colab": {
          "base_uri": "https://localhost:8080/",
          "height": 823
        },
        "outputId": "91dc0218-45c0-4fc7-d7bd-40d41de4d896"
      },
      "execution_count": null,
      "outputs": [
        {
          "output_type": "execute_result",
          "data": {
            "text/plain": [
              "<folium.folium.Map at 0x7fa440fd65d0>"
            ],
            "text/html": [
              "<div style=\"width:100%;\"><div style=\"position:relative;width:100%;height:0;padding-bottom:60%;\"><span style=\"color:#565656\">Make this Notebook Trusted to load map: File -> Trust Notebook</span><iframe srcdoc=\"&lt;!DOCTYPE html&gt;\n",
              "&lt;head&gt;    \n",
              "    &lt;meta http-equiv=&quot;content-type&quot; content=&quot;text/html; charset=UTF-8&quot; /&gt;\n",
              "    \n",
              "        &lt;script&gt;\n",
              "            L_NO_TOUCH = false;\n",
              "            L_DISABLE_3D = false;\n",
              "        &lt;/script&gt;\n",
              "    \n",
              "    &lt;style&gt;html, body {width: 100%;height: 100%;margin: 0;padding: 0;}&lt;/style&gt;\n",
              "    &lt;style&gt;#map {position:absolute;top:0;bottom:0;right:0;left:0;}&lt;/style&gt;\n",
              "    &lt;script src=&quot;https://cdn.jsdelivr.net/npm/leaflet@1.6.0/dist/leaflet.js&quot;&gt;&lt;/script&gt;\n",
              "    &lt;script src=&quot;https://code.jquery.com/jquery-1.12.4.min.js&quot;&gt;&lt;/script&gt;\n",
              "    &lt;script src=&quot;https://maxcdn.bootstrapcdn.com/bootstrap/3.2.0/js/bootstrap.min.js&quot;&gt;&lt;/script&gt;\n",
              "    &lt;script src=&quot;https://cdnjs.cloudflare.com/ajax/libs/Leaflet.awesome-markers/2.0.2/leaflet.awesome-markers.js&quot;&gt;&lt;/script&gt;\n",
              "    &lt;link rel=&quot;stylesheet&quot; href=&quot;https://cdn.jsdelivr.net/npm/leaflet@1.6.0/dist/leaflet.css&quot;/&gt;\n",
              "    &lt;link rel=&quot;stylesheet&quot; href=&quot;https://maxcdn.bootstrapcdn.com/bootstrap/3.2.0/css/bootstrap.min.css&quot;/&gt;\n",
              "    &lt;link rel=&quot;stylesheet&quot; href=&quot;https://maxcdn.bootstrapcdn.com/bootstrap/3.2.0/css/bootstrap-theme.min.css&quot;/&gt;\n",
              "    &lt;link rel=&quot;stylesheet&quot; href=&quot;https://maxcdn.bootstrapcdn.com/font-awesome/4.6.3/css/font-awesome.min.css&quot;/&gt;\n",
              "    &lt;link rel=&quot;stylesheet&quot; href=&quot;https://cdnjs.cloudflare.com/ajax/libs/Leaflet.awesome-markers/2.0.2/leaflet.awesome-markers.css&quot;/&gt;\n",
              "    &lt;link rel=&quot;stylesheet&quot; href=&quot;https://cdn.jsdelivr.net/gh/python-visualization/folium/folium/templates/leaflet.awesome.rotate.min.css&quot;/&gt;\n",
              "    \n",
              "            &lt;meta name=&quot;viewport&quot; content=&quot;width=device-width,\n",
              "                initial-scale=1.0, maximum-scale=1.0, user-scalable=no&quot; /&gt;\n",
              "            &lt;style&gt;\n",
              "                #map_488f235723c8740ca70e7c340209401a {\n",
              "                    position: relative;\n",
              "                    width: 100.0%;\n",
              "                    height: 100.0%;\n",
              "                    left: 0.0%;\n",
              "                    top: 0.0%;\n",
              "                }\n",
              "            &lt;/style&gt;\n",
              "        \n",
              "&lt;/head&gt;\n",
              "&lt;body&gt;    \n",
              "    \n",
              "            &lt;div class=&quot;folium-map&quot; id=&quot;map_488f235723c8740ca70e7c340209401a&quot; &gt;&lt;/div&gt;\n",
              "        \n",
              "&lt;/body&gt;\n",
              "&lt;script&gt;    \n",
              "    \n",
              "            var map_488f235723c8740ca70e7c340209401a = L.map(\n",
              "                &quot;map_488f235723c8740ca70e7c340209401a&quot;,\n",
              "                {\n",
              "                    center: [-22.5046, -43.1823],\n",
              "                    crs: L.CRS.EPSG3857,\n",
              "                    zoom: 10,\n",
              "                    zoomControl: true,\n",
              "                    preferCanvas: false,\n",
              "                }\n",
              "            );\n",
              "\n",
              "            \n",
              "\n",
              "        \n",
              "    \n",
              "            var tile_layer_08bf152a7aa48c38b2aa6b3283dea4a6 = L.tileLayer(\n",
              "                &quot;https://{s}.tile.openstreetmap.org/{z}/{x}/{y}.png&quot;,\n",
              "                {&quot;attribution&quot;: &quot;Data by \\u0026copy; \\u003ca href=\\&quot;http://openstreetmap.org\\&quot;\\u003eOpenStreetMap\\u003c/a\\u003e, under \\u003ca href=\\&quot;http://www.openstreetmap.org/copyright\\&quot;\\u003eODbL\\u003c/a\\u003e.&quot;, &quot;detectRetina&quot;: false, &quot;maxNativeZoom&quot;: 18, &quot;maxZoom&quot;: 18, &quot;minZoom&quot;: 0, &quot;noWrap&quot;: false, &quot;opacity&quot;: 1, &quot;subdomains&quot;: &quot;abc&quot;, &quot;tms&quot;: false}\n",
              "            ).addTo(map_488f235723c8740ca70e7c340209401a);\n",
              "        \n",
              "    \n",
              "            var marker_b2743bd8bf797140f6d6ccf243045435 = L.marker(\n",
              "                [-22.543161606352932, -43.26639483802907],\n",
              "                {}\n",
              "            ).addTo(map_488f235723c8740ca70e7c340209401a);\n",
              "        \n",
              "    \n",
              "            var icon_29ac2e4f1786ad7dc2726b6ef1e42afa = L.AwesomeMarkers.icon(\n",
              "                {&quot;extraClasses&quot;: &quot;fa-rotate-0&quot;, &quot;icon&quot;: &quot;info-sign&quot;, &quot;iconColor&quot;: &quot;white&quot;, &quot;markerColor&quot;: &quot;red&quot;, &quot;prefix&quot;: &quot;glyphicon&quot;}\n",
              "            );\n",
              "            marker_b2743bd8bf797140f6d6ccf243045435.setIcon(icon_29ac2e4f1786ad7dc2726b6ef1e42afa);\n",
              "        \n",
              "    \n",
              "        var popup_9c7c26b0296f015b9c24afe5e019db06 = L.popup({&quot;maxWidth&quot;: &quot;100%&quot;});\n",
              "\n",
              "        \n",
              "            var html_b052f8965dd966e9e79838ea5f32fa63 = $(`&lt;div id=&quot;html_b052f8965dd966e9e79838ea5f32fa63&quot; style=&quot;width: 100.0%; height: 100.0%;&quot;&gt;&lt;i&gt;-22.543161606352932, -43.26639483802907&lt;/i&gt;&lt;/div&gt;`)[0];\n",
              "            popup_9c7c26b0296f015b9c24afe5e019db06.setContent(html_b052f8965dd966e9e79838ea5f32fa63);\n",
              "        \n",
              "\n",
              "        marker_b2743bd8bf797140f6d6ccf243045435.bindPopup(popup_9c7c26b0296f015b9c24afe5e019db06)\n",
              "        ;\n",
              "\n",
              "        \n",
              "    \n",
              "    \n",
              "            marker_b2743bd8bf797140f6d6ccf243045435.bindTooltip(\n",
              "                `&lt;div&gt;\n",
              "                     Clique aqui\n",
              "                 &lt;/div&gt;`,\n",
              "                {&quot;sticky&quot;: true}\n",
              "            );\n",
              "        \n",
              "    \n",
              "            var marker_e47084515e554d2e4b6eeef7d0fb8d2d = L.marker(\n",
              "                [-22.468308146632634, -43.090613595700944],\n",
              "                {}\n",
              "            ).addTo(map_488f235723c8740ca70e7c340209401a);\n",
              "        \n",
              "    \n",
              "            var icon_2ba69c9038fa503419393b37a511b463 = L.AwesomeMarkers.icon(\n",
              "                {&quot;extraClasses&quot;: &quot;fa-rotate-0&quot;, &quot;icon&quot;: &quot;info-sign&quot;, &quot;iconColor&quot;: &quot;white&quot;, &quot;markerColor&quot;: &quot;red&quot;, &quot;prefix&quot;: &quot;glyphicon&quot;}\n",
              "            );\n",
              "            marker_e47084515e554d2e4b6eeef7d0fb8d2d.setIcon(icon_2ba69c9038fa503419393b37a511b463);\n",
              "        \n",
              "    \n",
              "        var popup_e47aa8e822819810c2b3941ce9834e5d = L.popup({&quot;maxWidth&quot;: &quot;100%&quot;});\n",
              "\n",
              "        \n",
              "            var html_8145ac2e1a717bc05264368f833d92ec = $(`&lt;div id=&quot;html_8145ac2e1a717bc05264368f833d92ec&quot; style=&quot;width: 100.0%; height: 100.0%;&quot;&gt;&lt;i&gt;-22.468308146632634, -43.090613595700944&lt;/i&gt;&lt;/div&gt;`)[0];\n",
              "            popup_e47aa8e822819810c2b3941ce9834e5d.setContent(html_8145ac2e1a717bc05264368f833d92ec);\n",
              "        \n",
              "\n",
              "        marker_e47084515e554d2e4b6eeef7d0fb8d2d.bindPopup(popup_e47aa8e822819810c2b3941ce9834e5d)\n",
              "        ;\n",
              "\n",
              "        \n",
              "    \n",
              "    \n",
              "            marker_e47084515e554d2e4b6eeef7d0fb8d2d.bindTooltip(\n",
              "                `&lt;div&gt;\n",
              "                     Clique aqui\n",
              "                 &lt;/div&gt;`,\n",
              "                {&quot;sticky&quot;: true}\n",
              "            );\n",
              "        \n",
              "    \n",
              "            var marker_b05b82e3f7b7908a0369e4dbb091b1ab = L.marker(\n",
              "                [-22.471480725131634, -43.26708148350691],\n",
              "                {}\n",
              "            ).addTo(map_488f235723c8740ca70e7c340209401a);\n",
              "        \n",
              "    \n",
              "            var icon_422a5e6b4afe45d41778419bb305d824 = L.AwesomeMarkers.icon(\n",
              "                {&quot;extraClasses&quot;: &quot;fa-rotate-0&quot;, &quot;icon&quot;: &quot;info-sign&quot;, &quot;iconColor&quot;: &quot;white&quot;, &quot;markerColor&quot;: &quot;red&quot;, &quot;prefix&quot;: &quot;glyphicon&quot;}\n",
              "            );\n",
              "            marker_b05b82e3f7b7908a0369e4dbb091b1ab.setIcon(icon_422a5e6b4afe45d41778419bb305d824);\n",
              "        \n",
              "    \n",
              "        var popup_8773c616f379792d823985078973eaa8 = L.popup({&quot;maxWidth&quot;: &quot;100%&quot;});\n",
              "\n",
              "        \n",
              "            var html_9bb1ced2c7b017d7b720e22317309f18 = $(`&lt;div id=&quot;html_9bb1ced2c7b017d7b720e22317309f18&quot; style=&quot;width: 100.0%; height: 100.0%;&quot;&gt;&lt;i&gt;-22.471480725131634, -43.26708148350691&lt;/i&gt;&lt;/div&gt;`)[0];\n",
              "            popup_8773c616f379792d823985078973eaa8.setContent(html_9bb1ced2c7b017d7b720e22317309f18);\n",
              "        \n",
              "\n",
              "        marker_b05b82e3f7b7908a0369e4dbb091b1ab.bindPopup(popup_8773c616f379792d823985078973eaa8)\n",
              "        ;\n",
              "\n",
              "        \n",
              "    \n",
              "    \n",
              "            marker_b05b82e3f7b7908a0369e4dbb091b1ab.bindTooltip(\n",
              "                `&lt;div&gt;\n",
              "                     Clique aqui\n",
              "                 &lt;/div&gt;`,\n",
              "                {&quot;sticky&quot;: true}\n",
              "            );\n",
              "        \n",
              "    \n",
              "            var marker_77ed711fb0733c6bf25c1dbeef11bd8b = L.marker(\n",
              "                [-22.54379578448828, -43.089926950223095],\n",
              "                {}\n",
              "            ).addTo(map_488f235723c8740ca70e7c340209401a);\n",
              "        \n",
              "    \n",
              "            var icon_70ee15f063099d1af72d5f20526eb01e = L.AwesomeMarkers.icon(\n",
              "                {&quot;extraClasses&quot;: &quot;fa-rotate-0&quot;, &quot;icon&quot;: &quot;info-sign&quot;, &quot;iconColor&quot;: &quot;white&quot;, &quot;markerColor&quot;: &quot;red&quot;, &quot;prefix&quot;: &quot;glyphicon&quot;}\n",
              "            );\n",
              "            marker_77ed711fb0733c6bf25c1dbeef11bd8b.setIcon(icon_70ee15f063099d1af72d5f20526eb01e);\n",
              "        \n",
              "    \n",
              "        var popup_6a79bb13845d37ec5e02b6ddb2d6cebe = L.popup({&quot;maxWidth&quot;: &quot;100%&quot;});\n",
              "\n",
              "        \n",
              "            var html_6fff98eb84867b3c0bed295ce1aa1102 = $(`&lt;div id=&quot;html_6fff98eb84867b3c0bed295ce1aa1102&quot; style=&quot;width: 100.0%; height: 100.0%;&quot;&gt;&lt;i&gt;-22.54379578448828, -43.089926950223095&lt;/i&gt;&lt;/div&gt;`)[0];\n",
              "            popup_6a79bb13845d37ec5e02b6ddb2d6cebe.setContent(html_6fff98eb84867b3c0bed295ce1aa1102);\n",
              "        \n",
              "\n",
              "        marker_77ed711fb0733c6bf25c1dbeef11bd8b.bindPopup(popup_6a79bb13845d37ec5e02b6ddb2d6cebe)\n",
              "        ;\n",
              "\n",
              "        \n",
              "    \n",
              "    \n",
              "            marker_77ed711fb0733c6bf25c1dbeef11bd8b.bindTooltip(\n",
              "                `&lt;div&gt;\n",
              "                     Clique aqui\n",
              "                 &lt;/div&gt;`,\n",
              "                {&quot;sticky&quot;: true}\n",
              "            );\n",
              "        \n",
              "&lt;/script&gt;\" style=\"position:absolute;width:100%;height:100%;left:0;top:0;border:none !important;\" allowfullscreen webkitallowfullscreen mozallowfullscreen></iframe></div></div>"
            ]
          },
          "metadata": {},
          "execution_count": 9
        }
      ]
    },
    {
      "cell_type": "code",
      "source": [
        "#Quitandinha - 1\n",
        "folium.Marker(\n",
        "    location=[-22.524907, -43.223916],\n",
        "    popup='<i>-22.524907, -43.223916</i>',\n",
        "    tooltip='Clique aqui',\n",
        "    icon=folium.Icon(color='blue')\n",
        ").add_to(mapa)"
      ],
      "metadata": {
        "id": "w74TXg0TD1xz",
        "colab": {
          "base_uri": "https://localhost:8080/"
        },
        "outputId": "00b5f515-f29c-452d-cc03-d32b84a89320"
      },
      "execution_count": null,
      "outputs": [
        {
          "output_type": "execute_result",
          "data": {
            "text/plain": [
              "<folium.map.Marker at 0x7fa440f521d0>"
            ]
          },
          "metadata": {},
          "execution_count": 10
        }
      ]
    },
    {
      "cell_type": "code",
      "source": [
        "#Dr. Thouzet - 2\n",
        "folium.Marker(\n",
        "    location=[-22.528328, -43.202885],\n",
        "    popup='<i>-22.528328, -43.202885</i>',\n",
        "    tooltip='Clique aqui',\n",
        "    icon=folium.Icon(color='blue')\n",
        ").add_to(mapa)"
      ],
      "metadata": {
        "id": "sqNxnd7TEBmn",
        "colab": {
          "base_uri": "https://localhost:8080/"
        },
        "outputId": "89b3243c-2fcc-4dd0-a553-deb7abf0a2d2"
      },
      "execution_count": null,
      "outputs": [
        {
          "output_type": "execute_result",
          "data": {
            "text/plain": [
              "<folium.map.Marker at 0x7fa440f52e10>"
            ]
          },
          "metadata": {},
          "execution_count": 11
        }
      ]
    },
    {
      "cell_type": "code",
      "source": [
        "#São Sebastião - 3\n",
        "folium.Marker(\n",
        "    location=[-22.528328, -43.193240],\n",
        "    popup='<i>-22.528328, -43.193240</i>',\n",
        "    tooltip='Clique aqui',\n",
        "    icon=folium.Icon(color='blue')\n",
        ").add_to(mapa)"
      ],
      "metadata": {
        "id": "Bot5z7b5Ehg0",
        "colab": {
          "base_uri": "https://localhost:8080/"
        },
        "outputId": "6161b052-0145-4d09-d74d-5241c98d7efb"
      },
      "execution_count": null,
      "outputs": [
        {
          "output_type": "execute_result",
          "data": {
            "text/plain": [
              "<folium.map.Marker at 0x7fa440f5ed90>"
            ]
          },
          "metadata": {},
          "execution_count": 12
        }
      ]
    },
    {
      "cell_type": "code",
      "source": [
        "#Bingen - 5\n",
        "folium.Marker(\n",
        "    location=[-22.512210,\t-43.209475],\n",
        "    popup='<i>-22.512210,\t-43.209475</i>',\n",
        "    tooltip='Clique aqui',\n",
        "    icon=folium.Icon(color='blue')\n",
        ").add_to(mapa)"
      ],
      "metadata": {
        "id": "afiaO5ttEhsi",
        "colab": {
          "base_uri": "https://localhost:8080/"
        },
        "outputId": "b37f792c-9ec9-457f-ee9b-26c3e72c5100"
      },
      "execution_count": null,
      "outputs": [
        {
          "output_type": "execute_result",
          "data": {
            "text/plain": [
              "<folium.map.Marker at 0x7fa440f5fe90>"
            ]
          },
          "metadata": {},
          "execution_count": 13
        }
      ]
    },
    {
      "cell_type": "code",
      "source": [
        "#Rua Araruama/Quitandinha - 14\n",
        "folium.Marker(\n",
        "    location=[-22.52, -43.22],\n",
        "    popup='<i>-22.52, -43.22</i>',\n",
        "    tooltip='Clique aqui',\n",
        "    icon=folium.Icon(color='blue')\n",
        ").add_to(mapa)"
      ],
      "metadata": {
        "id": "K9BMi6J8FuNT",
        "colab": {
          "base_uri": "https://localhost:8080/"
        },
        "outputId": "9882bb88-3acb-4ea7-cf9a-bec35b2504e6"
      },
      "execution_count": null,
      "outputs": [
        {
          "output_type": "execute_result",
          "data": {
            "text/plain": [
              "<folium.map.Marker at 0x7fa440f68250>"
            ]
          },
          "metadata": {},
          "execution_count": 14
        }
      ]
    },
    {
      "cell_type": "code",
      "source": [
        "#Rua Amazonas/Quitandinha - 15\n",
        "folium.Marker(\n",
        "    location=[-22.529, -43.223],\n",
        "    popup='<i>-22,529, -43,223</i>',\n",
        "    tooltip='Clique aqui',\n",
        "    icon=folium.Icon(color='blue')\n",
        ").add_to(mapa)"
      ],
      "metadata": {
        "id": "7i_gZzAEFvNM",
        "colab": {
          "base_uri": "https://localhost:8080/"
        },
        "outputId": "1fd334f4-ea07-4133-d14e-9033bf4c39b4"
      },
      "execution_count": null,
      "outputs": [
        {
          "output_type": "execute_result",
          "data": {
            "text/plain": [
              "<folium.map.Marker at 0x7fa441049f10>"
            ]
          },
          "metadata": {},
          "execution_count": 15
        }
      ]
    },
    {
      "cell_type": "code",
      "source": [
        "#Morin - 16\n",
        "folium.Marker(\n",
        "    location=[-22.527, -43.161],\n",
        "    popup='<i>-22,527, -43,161</i>',\n",
        "    tooltip='Clique aqui',\n",
        "    icon=folium.Icon(color='blue')\n",
        ").add_to(mapa)"
      ],
      "metadata": {
        "id": "B-9MACjgFwQY",
        "colab": {
          "base_uri": "https://localhost:8080/"
        },
        "outputId": "078a60c6-7078-488e-ed53-1d0b07ee0124"
      },
      "execution_count": null,
      "outputs": [
        {
          "output_type": "execute_result",
          "data": {
            "text/plain": [
              "<folium.map.Marker at 0x7fa440f70650>"
            ]
          },
          "metadata": {},
          "execution_count": 16
        }
      ]
    },
    {
      "cell_type": "code",
      "source": [
        "#Mosela - 20\n",
        "folium.Marker(\n",
        "    location=[-22.481, -43.219],\n",
        "    popup='<i>-22.481, -43.219</i>',\n",
        "    tooltip='Clique aqui',\n",
        "    icon=folium.Icon(color='blue')\n",
        ").add_to(mapa)"
      ],
      "metadata": {
        "id": "9HiSAumlF0iX",
        "colab": {
          "base_uri": "https://localhost:8080/"
        },
        "outputId": "2eb844bc-d9ef-425a-ab59-e41362928116"
      },
      "execution_count": null,
      "outputs": [
        {
          "output_type": "execute_result",
          "data": {
            "text/plain": [
              "<folium.map.Marker at 0x7fa440f7a650>"
            ]
          },
          "metadata": {},
          "execution_count": 17
        }
      ]
    },
    {
      "cell_type": "markdown",
      "source": [
        "* Ao todo são 21 estações, porém na área delimitada só possuem 8"
      ],
      "metadata": {
        "id": "SKFnitpPz8lb"
      }
    },
    {
      "cell_type": "code",
      "source": [
        "mapa"
      ],
      "metadata": {
        "id": "bsZnwgaZIQtx",
        "colab": {
          "base_uri": "https://localhost:8080/",
          "height": 823
        },
        "outputId": "0ea0087f-df6e-45c8-cb49-d4db44085e9d"
      },
      "execution_count": null,
      "outputs": [
        {
          "output_type": "execute_result",
          "data": {
            "text/plain": [
              "<folium.folium.Map at 0x7fa440fd65d0>"
            ],
            "text/html": [
              "<div style=\"width:100%;\"><div style=\"position:relative;width:100%;height:0;padding-bottom:60%;\"><span style=\"color:#565656\">Make this Notebook Trusted to load map: File -> Trust Notebook</span><iframe srcdoc=\"&lt;!DOCTYPE html&gt;\n",
              "&lt;head&gt;    \n",
              "    &lt;meta http-equiv=&quot;content-type&quot; content=&quot;text/html; charset=UTF-8&quot; /&gt;\n",
              "    \n",
              "        &lt;script&gt;\n",
              "            L_NO_TOUCH = false;\n",
              "            L_DISABLE_3D = false;\n",
              "        &lt;/script&gt;\n",
              "    \n",
              "    &lt;style&gt;html, body {width: 100%;height: 100%;margin: 0;padding: 0;}&lt;/style&gt;\n",
              "    &lt;style&gt;#map {position:absolute;top:0;bottom:0;right:0;left:0;}&lt;/style&gt;\n",
              "    &lt;script src=&quot;https://cdn.jsdelivr.net/npm/leaflet@1.6.0/dist/leaflet.js&quot;&gt;&lt;/script&gt;\n",
              "    &lt;script src=&quot;https://code.jquery.com/jquery-1.12.4.min.js&quot;&gt;&lt;/script&gt;\n",
              "    &lt;script src=&quot;https://maxcdn.bootstrapcdn.com/bootstrap/3.2.0/js/bootstrap.min.js&quot;&gt;&lt;/script&gt;\n",
              "    &lt;script src=&quot;https://cdnjs.cloudflare.com/ajax/libs/Leaflet.awesome-markers/2.0.2/leaflet.awesome-markers.js&quot;&gt;&lt;/script&gt;\n",
              "    &lt;link rel=&quot;stylesheet&quot; href=&quot;https://cdn.jsdelivr.net/npm/leaflet@1.6.0/dist/leaflet.css&quot;/&gt;\n",
              "    &lt;link rel=&quot;stylesheet&quot; href=&quot;https://maxcdn.bootstrapcdn.com/bootstrap/3.2.0/css/bootstrap.min.css&quot;/&gt;\n",
              "    &lt;link rel=&quot;stylesheet&quot; href=&quot;https://maxcdn.bootstrapcdn.com/bootstrap/3.2.0/css/bootstrap-theme.min.css&quot;/&gt;\n",
              "    &lt;link rel=&quot;stylesheet&quot; href=&quot;https://maxcdn.bootstrapcdn.com/font-awesome/4.6.3/css/font-awesome.min.css&quot;/&gt;\n",
              "    &lt;link rel=&quot;stylesheet&quot; href=&quot;https://cdnjs.cloudflare.com/ajax/libs/Leaflet.awesome-markers/2.0.2/leaflet.awesome-markers.css&quot;/&gt;\n",
              "    &lt;link rel=&quot;stylesheet&quot; href=&quot;https://cdn.jsdelivr.net/gh/python-visualization/folium/folium/templates/leaflet.awesome.rotate.min.css&quot;/&gt;\n",
              "    \n",
              "            &lt;meta name=&quot;viewport&quot; content=&quot;width=device-width,\n",
              "                initial-scale=1.0, maximum-scale=1.0, user-scalable=no&quot; /&gt;\n",
              "            &lt;style&gt;\n",
              "                #map_488f235723c8740ca70e7c340209401a {\n",
              "                    position: relative;\n",
              "                    width: 100.0%;\n",
              "                    height: 100.0%;\n",
              "                    left: 0.0%;\n",
              "                    top: 0.0%;\n",
              "                }\n",
              "            &lt;/style&gt;\n",
              "        \n",
              "&lt;/head&gt;\n",
              "&lt;body&gt;    \n",
              "    \n",
              "            &lt;div class=&quot;folium-map&quot; id=&quot;map_488f235723c8740ca70e7c340209401a&quot; &gt;&lt;/div&gt;\n",
              "        \n",
              "&lt;/body&gt;\n",
              "&lt;script&gt;    \n",
              "    \n",
              "            var map_488f235723c8740ca70e7c340209401a = L.map(\n",
              "                &quot;map_488f235723c8740ca70e7c340209401a&quot;,\n",
              "                {\n",
              "                    center: [-22.5046, -43.1823],\n",
              "                    crs: L.CRS.EPSG3857,\n",
              "                    zoom: 10,\n",
              "                    zoomControl: true,\n",
              "                    preferCanvas: false,\n",
              "                }\n",
              "            );\n",
              "\n",
              "            \n",
              "\n",
              "        \n",
              "    \n",
              "            var tile_layer_08bf152a7aa48c38b2aa6b3283dea4a6 = L.tileLayer(\n",
              "                &quot;https://{s}.tile.openstreetmap.org/{z}/{x}/{y}.png&quot;,\n",
              "                {&quot;attribution&quot;: &quot;Data by \\u0026copy; \\u003ca href=\\&quot;http://openstreetmap.org\\&quot;\\u003eOpenStreetMap\\u003c/a\\u003e, under \\u003ca href=\\&quot;http://www.openstreetmap.org/copyright\\&quot;\\u003eODbL\\u003c/a\\u003e.&quot;, &quot;detectRetina&quot;: false, &quot;maxNativeZoom&quot;: 18, &quot;maxZoom&quot;: 18, &quot;minZoom&quot;: 0, &quot;noWrap&quot;: false, &quot;opacity&quot;: 1, &quot;subdomains&quot;: &quot;abc&quot;, &quot;tms&quot;: false}\n",
              "            ).addTo(map_488f235723c8740ca70e7c340209401a);\n",
              "        \n",
              "    \n",
              "            var marker_b2743bd8bf797140f6d6ccf243045435 = L.marker(\n",
              "                [-22.543161606352932, -43.26639483802907],\n",
              "                {}\n",
              "            ).addTo(map_488f235723c8740ca70e7c340209401a);\n",
              "        \n",
              "    \n",
              "            var icon_29ac2e4f1786ad7dc2726b6ef1e42afa = L.AwesomeMarkers.icon(\n",
              "                {&quot;extraClasses&quot;: &quot;fa-rotate-0&quot;, &quot;icon&quot;: &quot;info-sign&quot;, &quot;iconColor&quot;: &quot;white&quot;, &quot;markerColor&quot;: &quot;red&quot;, &quot;prefix&quot;: &quot;glyphicon&quot;}\n",
              "            );\n",
              "            marker_b2743bd8bf797140f6d6ccf243045435.setIcon(icon_29ac2e4f1786ad7dc2726b6ef1e42afa);\n",
              "        \n",
              "    \n",
              "        var popup_9c7c26b0296f015b9c24afe5e019db06 = L.popup({&quot;maxWidth&quot;: &quot;100%&quot;});\n",
              "\n",
              "        \n",
              "            var html_b052f8965dd966e9e79838ea5f32fa63 = $(`&lt;div id=&quot;html_b052f8965dd966e9e79838ea5f32fa63&quot; style=&quot;width: 100.0%; height: 100.0%;&quot;&gt;&lt;i&gt;-22.543161606352932, -43.26639483802907&lt;/i&gt;&lt;/div&gt;`)[0];\n",
              "            popup_9c7c26b0296f015b9c24afe5e019db06.setContent(html_b052f8965dd966e9e79838ea5f32fa63);\n",
              "        \n",
              "\n",
              "        marker_b2743bd8bf797140f6d6ccf243045435.bindPopup(popup_9c7c26b0296f015b9c24afe5e019db06)\n",
              "        ;\n",
              "\n",
              "        \n",
              "    \n",
              "    \n",
              "            marker_b2743bd8bf797140f6d6ccf243045435.bindTooltip(\n",
              "                `&lt;div&gt;\n",
              "                     Clique aqui\n",
              "                 &lt;/div&gt;`,\n",
              "                {&quot;sticky&quot;: true}\n",
              "            );\n",
              "        \n",
              "    \n",
              "            var marker_e47084515e554d2e4b6eeef7d0fb8d2d = L.marker(\n",
              "                [-22.468308146632634, -43.090613595700944],\n",
              "                {}\n",
              "            ).addTo(map_488f235723c8740ca70e7c340209401a);\n",
              "        \n",
              "    \n",
              "            var icon_2ba69c9038fa503419393b37a511b463 = L.AwesomeMarkers.icon(\n",
              "                {&quot;extraClasses&quot;: &quot;fa-rotate-0&quot;, &quot;icon&quot;: &quot;info-sign&quot;, &quot;iconColor&quot;: &quot;white&quot;, &quot;markerColor&quot;: &quot;red&quot;, &quot;prefix&quot;: &quot;glyphicon&quot;}\n",
              "            );\n",
              "            marker_e47084515e554d2e4b6eeef7d0fb8d2d.setIcon(icon_2ba69c9038fa503419393b37a511b463);\n",
              "        \n",
              "    \n",
              "        var popup_e47aa8e822819810c2b3941ce9834e5d = L.popup({&quot;maxWidth&quot;: &quot;100%&quot;});\n",
              "\n",
              "        \n",
              "            var html_8145ac2e1a717bc05264368f833d92ec = $(`&lt;div id=&quot;html_8145ac2e1a717bc05264368f833d92ec&quot; style=&quot;width: 100.0%; height: 100.0%;&quot;&gt;&lt;i&gt;-22.468308146632634, -43.090613595700944&lt;/i&gt;&lt;/div&gt;`)[0];\n",
              "            popup_e47aa8e822819810c2b3941ce9834e5d.setContent(html_8145ac2e1a717bc05264368f833d92ec);\n",
              "        \n",
              "\n",
              "        marker_e47084515e554d2e4b6eeef7d0fb8d2d.bindPopup(popup_e47aa8e822819810c2b3941ce9834e5d)\n",
              "        ;\n",
              "\n",
              "        \n",
              "    \n",
              "    \n",
              "            marker_e47084515e554d2e4b6eeef7d0fb8d2d.bindTooltip(\n",
              "                `&lt;div&gt;\n",
              "                     Clique aqui\n",
              "                 &lt;/div&gt;`,\n",
              "                {&quot;sticky&quot;: true}\n",
              "            );\n",
              "        \n",
              "    \n",
              "            var marker_b05b82e3f7b7908a0369e4dbb091b1ab = L.marker(\n",
              "                [-22.471480725131634, -43.26708148350691],\n",
              "                {}\n",
              "            ).addTo(map_488f235723c8740ca70e7c340209401a);\n",
              "        \n",
              "    \n",
              "            var icon_422a5e6b4afe45d41778419bb305d824 = L.AwesomeMarkers.icon(\n",
              "                {&quot;extraClasses&quot;: &quot;fa-rotate-0&quot;, &quot;icon&quot;: &quot;info-sign&quot;, &quot;iconColor&quot;: &quot;white&quot;, &quot;markerColor&quot;: &quot;red&quot;, &quot;prefix&quot;: &quot;glyphicon&quot;}\n",
              "            );\n",
              "            marker_b05b82e3f7b7908a0369e4dbb091b1ab.setIcon(icon_422a5e6b4afe45d41778419bb305d824);\n",
              "        \n",
              "    \n",
              "        var popup_8773c616f379792d823985078973eaa8 = L.popup({&quot;maxWidth&quot;: &quot;100%&quot;});\n",
              "\n",
              "        \n",
              "            var html_9bb1ced2c7b017d7b720e22317309f18 = $(`&lt;div id=&quot;html_9bb1ced2c7b017d7b720e22317309f18&quot; style=&quot;width: 100.0%; height: 100.0%;&quot;&gt;&lt;i&gt;-22.471480725131634, -43.26708148350691&lt;/i&gt;&lt;/div&gt;`)[0];\n",
              "            popup_8773c616f379792d823985078973eaa8.setContent(html_9bb1ced2c7b017d7b720e22317309f18);\n",
              "        \n",
              "\n",
              "        marker_b05b82e3f7b7908a0369e4dbb091b1ab.bindPopup(popup_8773c616f379792d823985078973eaa8)\n",
              "        ;\n",
              "\n",
              "        \n",
              "    \n",
              "    \n",
              "            marker_b05b82e3f7b7908a0369e4dbb091b1ab.bindTooltip(\n",
              "                `&lt;div&gt;\n",
              "                     Clique aqui\n",
              "                 &lt;/div&gt;`,\n",
              "                {&quot;sticky&quot;: true}\n",
              "            );\n",
              "        \n",
              "    \n",
              "            var marker_77ed711fb0733c6bf25c1dbeef11bd8b = L.marker(\n",
              "                [-22.54379578448828, -43.089926950223095],\n",
              "                {}\n",
              "            ).addTo(map_488f235723c8740ca70e7c340209401a);\n",
              "        \n",
              "    \n",
              "            var icon_70ee15f063099d1af72d5f20526eb01e = L.AwesomeMarkers.icon(\n",
              "                {&quot;extraClasses&quot;: &quot;fa-rotate-0&quot;, &quot;icon&quot;: &quot;info-sign&quot;, &quot;iconColor&quot;: &quot;white&quot;, &quot;markerColor&quot;: &quot;red&quot;, &quot;prefix&quot;: &quot;glyphicon&quot;}\n",
              "            );\n",
              "            marker_77ed711fb0733c6bf25c1dbeef11bd8b.setIcon(icon_70ee15f063099d1af72d5f20526eb01e);\n",
              "        \n",
              "    \n",
              "        var popup_6a79bb13845d37ec5e02b6ddb2d6cebe = L.popup({&quot;maxWidth&quot;: &quot;100%&quot;});\n",
              "\n",
              "        \n",
              "            var html_6fff98eb84867b3c0bed295ce1aa1102 = $(`&lt;div id=&quot;html_6fff98eb84867b3c0bed295ce1aa1102&quot; style=&quot;width: 100.0%; height: 100.0%;&quot;&gt;&lt;i&gt;-22.54379578448828, -43.089926950223095&lt;/i&gt;&lt;/div&gt;`)[0];\n",
              "            popup_6a79bb13845d37ec5e02b6ddb2d6cebe.setContent(html_6fff98eb84867b3c0bed295ce1aa1102);\n",
              "        \n",
              "\n",
              "        marker_77ed711fb0733c6bf25c1dbeef11bd8b.bindPopup(popup_6a79bb13845d37ec5e02b6ddb2d6cebe)\n",
              "        ;\n",
              "\n",
              "        \n",
              "    \n",
              "    \n",
              "            marker_77ed711fb0733c6bf25c1dbeef11bd8b.bindTooltip(\n",
              "                `&lt;div&gt;\n",
              "                     Clique aqui\n",
              "                 &lt;/div&gt;`,\n",
              "                {&quot;sticky&quot;: true}\n",
              "            );\n",
              "        \n",
              "    \n",
              "            var marker_340744555d702a4681e0ab4519efd38e = L.marker(\n",
              "                [-22.524907, -43.223916],\n",
              "                {}\n",
              "            ).addTo(map_488f235723c8740ca70e7c340209401a);\n",
              "        \n",
              "    \n",
              "            var icon_e276e0e25b243b16e5a99e7807d6a407 = L.AwesomeMarkers.icon(\n",
              "                {&quot;extraClasses&quot;: &quot;fa-rotate-0&quot;, &quot;icon&quot;: &quot;info-sign&quot;, &quot;iconColor&quot;: &quot;white&quot;, &quot;markerColor&quot;: &quot;blue&quot;, &quot;prefix&quot;: &quot;glyphicon&quot;}\n",
              "            );\n",
              "            marker_340744555d702a4681e0ab4519efd38e.setIcon(icon_e276e0e25b243b16e5a99e7807d6a407);\n",
              "        \n",
              "    \n",
              "        var popup_3ab35d5260a70f2c78338c3081a7b9e9 = L.popup({&quot;maxWidth&quot;: &quot;100%&quot;});\n",
              "\n",
              "        \n",
              "            var html_35b7405ae2e8d57744701fc8978e90be = $(`&lt;div id=&quot;html_35b7405ae2e8d57744701fc8978e90be&quot; style=&quot;width: 100.0%; height: 100.0%;&quot;&gt;&lt;i&gt;-22.524907, -43.223916&lt;/i&gt;&lt;/div&gt;`)[0];\n",
              "            popup_3ab35d5260a70f2c78338c3081a7b9e9.setContent(html_35b7405ae2e8d57744701fc8978e90be);\n",
              "        \n",
              "\n",
              "        marker_340744555d702a4681e0ab4519efd38e.bindPopup(popup_3ab35d5260a70f2c78338c3081a7b9e9)\n",
              "        ;\n",
              "\n",
              "        \n",
              "    \n",
              "    \n",
              "            marker_340744555d702a4681e0ab4519efd38e.bindTooltip(\n",
              "                `&lt;div&gt;\n",
              "                     Clique aqui\n",
              "                 &lt;/div&gt;`,\n",
              "                {&quot;sticky&quot;: true}\n",
              "            );\n",
              "        \n",
              "    \n",
              "            var marker_84649a71fe55cec44ff719fd30a2da22 = L.marker(\n",
              "                [-22.528328, -43.202885],\n",
              "                {}\n",
              "            ).addTo(map_488f235723c8740ca70e7c340209401a);\n",
              "        \n",
              "    \n",
              "            var icon_b2997938bb9dedb3e40f97b9fe980840 = L.AwesomeMarkers.icon(\n",
              "                {&quot;extraClasses&quot;: &quot;fa-rotate-0&quot;, &quot;icon&quot;: &quot;info-sign&quot;, &quot;iconColor&quot;: &quot;white&quot;, &quot;markerColor&quot;: &quot;blue&quot;, &quot;prefix&quot;: &quot;glyphicon&quot;}\n",
              "            );\n",
              "            marker_84649a71fe55cec44ff719fd30a2da22.setIcon(icon_b2997938bb9dedb3e40f97b9fe980840);\n",
              "        \n",
              "    \n",
              "        var popup_bdcff121c7eb4f7a0408c746b7ff1432 = L.popup({&quot;maxWidth&quot;: &quot;100%&quot;});\n",
              "\n",
              "        \n",
              "            var html_66278a8300c8f81fa6760c4debd374a9 = $(`&lt;div id=&quot;html_66278a8300c8f81fa6760c4debd374a9&quot; style=&quot;width: 100.0%; height: 100.0%;&quot;&gt;&lt;i&gt;-22.528328, -43.202885&lt;/i&gt;&lt;/div&gt;`)[0];\n",
              "            popup_bdcff121c7eb4f7a0408c746b7ff1432.setContent(html_66278a8300c8f81fa6760c4debd374a9);\n",
              "        \n",
              "\n",
              "        marker_84649a71fe55cec44ff719fd30a2da22.bindPopup(popup_bdcff121c7eb4f7a0408c746b7ff1432)\n",
              "        ;\n",
              "\n",
              "        \n",
              "    \n",
              "    \n",
              "            marker_84649a71fe55cec44ff719fd30a2da22.bindTooltip(\n",
              "                `&lt;div&gt;\n",
              "                     Clique aqui\n",
              "                 &lt;/div&gt;`,\n",
              "                {&quot;sticky&quot;: true}\n",
              "            );\n",
              "        \n",
              "    \n",
              "            var marker_f58843274c4113f5ccb10854e4ea3dc4 = L.marker(\n",
              "                [-22.528328, -43.19324],\n",
              "                {}\n",
              "            ).addTo(map_488f235723c8740ca70e7c340209401a);\n",
              "        \n",
              "    \n",
              "            var icon_4e8c4ed80e77700b5683eda513268b58 = L.AwesomeMarkers.icon(\n",
              "                {&quot;extraClasses&quot;: &quot;fa-rotate-0&quot;, &quot;icon&quot;: &quot;info-sign&quot;, &quot;iconColor&quot;: &quot;white&quot;, &quot;markerColor&quot;: &quot;blue&quot;, &quot;prefix&quot;: &quot;glyphicon&quot;}\n",
              "            );\n",
              "            marker_f58843274c4113f5ccb10854e4ea3dc4.setIcon(icon_4e8c4ed80e77700b5683eda513268b58);\n",
              "        \n",
              "    \n",
              "        var popup_57765f528210d8726f7c052e7f6585cd = L.popup({&quot;maxWidth&quot;: &quot;100%&quot;});\n",
              "\n",
              "        \n",
              "            var html_b848fa9c6fc7247b7d289a20770052ad = $(`&lt;div id=&quot;html_b848fa9c6fc7247b7d289a20770052ad&quot; style=&quot;width: 100.0%; height: 100.0%;&quot;&gt;&lt;i&gt;-22.528328, -43.193240&lt;/i&gt;&lt;/div&gt;`)[0];\n",
              "            popup_57765f528210d8726f7c052e7f6585cd.setContent(html_b848fa9c6fc7247b7d289a20770052ad);\n",
              "        \n",
              "\n",
              "        marker_f58843274c4113f5ccb10854e4ea3dc4.bindPopup(popup_57765f528210d8726f7c052e7f6585cd)\n",
              "        ;\n",
              "\n",
              "        \n",
              "    \n",
              "    \n",
              "            marker_f58843274c4113f5ccb10854e4ea3dc4.bindTooltip(\n",
              "                `&lt;div&gt;\n",
              "                     Clique aqui\n",
              "                 &lt;/div&gt;`,\n",
              "                {&quot;sticky&quot;: true}\n",
              "            );\n",
              "        \n",
              "    \n",
              "            var marker_0b4608d624172dc693586ada7551c6be = L.marker(\n",
              "                [-22.51221, -43.209475],\n",
              "                {}\n",
              "            ).addTo(map_488f235723c8740ca70e7c340209401a);\n",
              "        \n",
              "    \n",
              "            var icon_2711b6ce7e5896ca972ced29ba78127b = L.AwesomeMarkers.icon(\n",
              "                {&quot;extraClasses&quot;: &quot;fa-rotate-0&quot;, &quot;icon&quot;: &quot;info-sign&quot;, &quot;iconColor&quot;: &quot;white&quot;, &quot;markerColor&quot;: &quot;blue&quot;, &quot;prefix&quot;: &quot;glyphicon&quot;}\n",
              "            );\n",
              "            marker_0b4608d624172dc693586ada7551c6be.setIcon(icon_2711b6ce7e5896ca972ced29ba78127b);\n",
              "        \n",
              "    \n",
              "        var popup_216941ad935ea4e20934857a2271e08c = L.popup({&quot;maxWidth&quot;: &quot;100%&quot;});\n",
              "\n",
              "        \n",
              "            var html_f396c1deb379356ab72a63a09e8e55b3 = $(`&lt;div id=&quot;html_f396c1deb379356ab72a63a09e8e55b3&quot; style=&quot;width: 100.0%; height: 100.0%;&quot;&gt;&lt;i&gt;-22.512210,\t-43.209475&lt;/i&gt;&lt;/div&gt;`)[0];\n",
              "            popup_216941ad935ea4e20934857a2271e08c.setContent(html_f396c1deb379356ab72a63a09e8e55b3);\n",
              "        \n",
              "\n",
              "        marker_0b4608d624172dc693586ada7551c6be.bindPopup(popup_216941ad935ea4e20934857a2271e08c)\n",
              "        ;\n",
              "\n",
              "        \n",
              "    \n",
              "    \n",
              "            marker_0b4608d624172dc693586ada7551c6be.bindTooltip(\n",
              "                `&lt;div&gt;\n",
              "                     Clique aqui\n",
              "                 &lt;/div&gt;`,\n",
              "                {&quot;sticky&quot;: true}\n",
              "            );\n",
              "        \n",
              "    \n",
              "            var marker_fed8abcd1f404fe799f29b275a43811e = L.marker(\n",
              "                [-22.52, -43.22],\n",
              "                {}\n",
              "            ).addTo(map_488f235723c8740ca70e7c340209401a);\n",
              "        \n",
              "    \n",
              "            var icon_2b6310dc2610ee6cdf292fef6545e7c9 = L.AwesomeMarkers.icon(\n",
              "                {&quot;extraClasses&quot;: &quot;fa-rotate-0&quot;, &quot;icon&quot;: &quot;info-sign&quot;, &quot;iconColor&quot;: &quot;white&quot;, &quot;markerColor&quot;: &quot;blue&quot;, &quot;prefix&quot;: &quot;glyphicon&quot;}\n",
              "            );\n",
              "            marker_fed8abcd1f404fe799f29b275a43811e.setIcon(icon_2b6310dc2610ee6cdf292fef6545e7c9);\n",
              "        \n",
              "    \n",
              "        var popup_2206dfa903659f62d0781ad89053b39c = L.popup({&quot;maxWidth&quot;: &quot;100%&quot;});\n",
              "\n",
              "        \n",
              "            var html_7546c50804761075a3c990e6519ec7cf = $(`&lt;div id=&quot;html_7546c50804761075a3c990e6519ec7cf&quot; style=&quot;width: 100.0%; height: 100.0%;&quot;&gt;&lt;i&gt;-22.52, -43.22&lt;/i&gt;&lt;/div&gt;`)[0];\n",
              "            popup_2206dfa903659f62d0781ad89053b39c.setContent(html_7546c50804761075a3c990e6519ec7cf);\n",
              "        \n",
              "\n",
              "        marker_fed8abcd1f404fe799f29b275a43811e.bindPopup(popup_2206dfa903659f62d0781ad89053b39c)\n",
              "        ;\n",
              "\n",
              "        \n",
              "    \n",
              "    \n",
              "            marker_fed8abcd1f404fe799f29b275a43811e.bindTooltip(\n",
              "                `&lt;div&gt;\n",
              "                     Clique aqui\n",
              "                 &lt;/div&gt;`,\n",
              "                {&quot;sticky&quot;: true}\n",
              "            );\n",
              "        \n",
              "    \n",
              "            var marker_792a1de0f47549e4c1dbab6535ca745e = L.marker(\n",
              "                [-22.529, -43.223],\n",
              "                {}\n",
              "            ).addTo(map_488f235723c8740ca70e7c340209401a);\n",
              "        \n",
              "    \n",
              "            var icon_e2b50f8e400925b8ccde87a2ec1d5eea = L.AwesomeMarkers.icon(\n",
              "                {&quot;extraClasses&quot;: &quot;fa-rotate-0&quot;, &quot;icon&quot;: &quot;info-sign&quot;, &quot;iconColor&quot;: &quot;white&quot;, &quot;markerColor&quot;: &quot;blue&quot;, &quot;prefix&quot;: &quot;glyphicon&quot;}\n",
              "            );\n",
              "            marker_792a1de0f47549e4c1dbab6535ca745e.setIcon(icon_e2b50f8e400925b8ccde87a2ec1d5eea);\n",
              "        \n",
              "    \n",
              "        var popup_fc7581355f6a1c34bd4dd375f2cce57a = L.popup({&quot;maxWidth&quot;: &quot;100%&quot;});\n",
              "\n",
              "        \n",
              "            var html_4630113aab97c5fd2d5e565b6ec70e0e = $(`&lt;div id=&quot;html_4630113aab97c5fd2d5e565b6ec70e0e&quot; style=&quot;width: 100.0%; height: 100.0%;&quot;&gt;&lt;i&gt;-22,529, -43,223&lt;/i&gt;&lt;/div&gt;`)[0];\n",
              "            popup_fc7581355f6a1c34bd4dd375f2cce57a.setContent(html_4630113aab97c5fd2d5e565b6ec70e0e);\n",
              "        \n",
              "\n",
              "        marker_792a1de0f47549e4c1dbab6535ca745e.bindPopup(popup_fc7581355f6a1c34bd4dd375f2cce57a)\n",
              "        ;\n",
              "\n",
              "        \n",
              "    \n",
              "    \n",
              "            marker_792a1de0f47549e4c1dbab6535ca745e.bindTooltip(\n",
              "                `&lt;div&gt;\n",
              "                     Clique aqui\n",
              "                 &lt;/div&gt;`,\n",
              "                {&quot;sticky&quot;: true}\n",
              "            );\n",
              "        \n",
              "    \n",
              "            var marker_211a5c082ca06516237af54bba77f9ef = L.marker(\n",
              "                [-22.527, -43.161],\n",
              "                {}\n",
              "            ).addTo(map_488f235723c8740ca70e7c340209401a);\n",
              "        \n",
              "    \n",
              "            var icon_950f804f2a7d31389d55e8ec6d7c6836 = L.AwesomeMarkers.icon(\n",
              "                {&quot;extraClasses&quot;: &quot;fa-rotate-0&quot;, &quot;icon&quot;: &quot;info-sign&quot;, &quot;iconColor&quot;: &quot;white&quot;, &quot;markerColor&quot;: &quot;blue&quot;, &quot;prefix&quot;: &quot;glyphicon&quot;}\n",
              "            );\n",
              "            marker_211a5c082ca06516237af54bba77f9ef.setIcon(icon_950f804f2a7d31389d55e8ec6d7c6836);\n",
              "        \n",
              "    \n",
              "        var popup_7551275f4e69043ba13679ec2de25379 = L.popup({&quot;maxWidth&quot;: &quot;100%&quot;});\n",
              "\n",
              "        \n",
              "            var html_6b0b5746a7612d66b4aa4a82da0892b7 = $(`&lt;div id=&quot;html_6b0b5746a7612d66b4aa4a82da0892b7&quot; style=&quot;width: 100.0%; height: 100.0%;&quot;&gt;&lt;i&gt;-22,527, -43,161&lt;/i&gt;&lt;/div&gt;`)[0];\n",
              "            popup_7551275f4e69043ba13679ec2de25379.setContent(html_6b0b5746a7612d66b4aa4a82da0892b7);\n",
              "        \n",
              "\n",
              "        marker_211a5c082ca06516237af54bba77f9ef.bindPopup(popup_7551275f4e69043ba13679ec2de25379)\n",
              "        ;\n",
              "\n",
              "        \n",
              "    \n",
              "    \n",
              "            marker_211a5c082ca06516237af54bba77f9ef.bindTooltip(\n",
              "                `&lt;div&gt;\n",
              "                     Clique aqui\n",
              "                 &lt;/div&gt;`,\n",
              "                {&quot;sticky&quot;: true}\n",
              "            );\n",
              "        \n",
              "    \n",
              "            var marker_93957fad68b047e80f1c565af7e6cd0f = L.marker(\n",
              "                [-22.481, -43.219],\n",
              "                {}\n",
              "            ).addTo(map_488f235723c8740ca70e7c340209401a);\n",
              "        \n",
              "    \n",
              "            var icon_75baa13275526526eb706acd57ac307e = L.AwesomeMarkers.icon(\n",
              "                {&quot;extraClasses&quot;: &quot;fa-rotate-0&quot;, &quot;icon&quot;: &quot;info-sign&quot;, &quot;iconColor&quot;: &quot;white&quot;, &quot;markerColor&quot;: &quot;blue&quot;, &quot;prefix&quot;: &quot;glyphicon&quot;}\n",
              "            );\n",
              "            marker_93957fad68b047e80f1c565af7e6cd0f.setIcon(icon_75baa13275526526eb706acd57ac307e);\n",
              "        \n",
              "    \n",
              "        var popup_72bce893775be395e746723c47b07904 = L.popup({&quot;maxWidth&quot;: &quot;100%&quot;});\n",
              "\n",
              "        \n",
              "            var html_810e28f750039727637ca0debffd5d1c = $(`&lt;div id=&quot;html_810e28f750039727637ca0debffd5d1c&quot; style=&quot;width: 100.0%; height: 100.0%;&quot;&gt;&lt;i&gt;-22.481, -43.219&lt;/i&gt;&lt;/div&gt;`)[0];\n",
              "            popup_72bce893775be395e746723c47b07904.setContent(html_810e28f750039727637ca0debffd5d1c);\n",
              "        \n",
              "\n",
              "        marker_93957fad68b047e80f1c565af7e6cd0f.bindPopup(popup_72bce893775be395e746723c47b07904)\n",
              "        ;\n",
              "\n",
              "        \n",
              "    \n",
              "    \n",
              "            marker_93957fad68b047e80f1c565af7e6cd0f.bindTooltip(\n",
              "                `&lt;div&gt;\n",
              "                     Clique aqui\n",
              "                 &lt;/div&gt;`,\n",
              "                {&quot;sticky&quot;: true}\n",
              "            );\n",
              "        \n",
              "&lt;/script&gt;\" style=\"position:absolute;width:100%;height:100%;left:0;top:0;border:none !important;\" allowfullscreen webkitallowfullscreen mozallowfullscreen></iframe></div></div>"
            ]
          },
          "metadata": {},
          "execution_count": 18
        }
      ]
    },
    {
      "cell_type": "code",
      "source": [
        "!pip install haversine\n",
        "from haversine import haversine"
      ],
      "metadata": {
        "id": "4HCHAUsiyPz9",
        "colab": {
          "base_uri": "https://localhost:8080/"
        },
        "outputId": "34df7624-0ada-4018-f8b0-49fd1014a3ae"
      },
      "execution_count": null,
      "outputs": [
        {
          "output_type": "stream",
          "name": "stdout",
          "text": [
            "Looking in indexes: https://pypi.org/simple, https://us-python.pkg.dev/colab-wheels/public/simple/\n",
            "Collecting haversine\n",
            "  Downloading haversine-2.6.0-py2.py3-none-any.whl (6.8 kB)\n",
            "Installing collected packages: haversine\n",
            "Successfully installed haversine-2.6.0\n"
          ]
        }
      ]
    },
    {
      "cell_type": "markdown",
      "source": [
        "* Area = (18x8)km\n",
        "* Area total = 144km"
      ],
      "metadata": {
        "id": "rzE9T0Y-ygnS"
      }
    },
    {
      "cell_type": "code",
      "source": [
        "esq_sup = (-22.471480725131634, -43.26708148350691)\n",
        "esq_inf = (-22.543161606352932, -43.26639483802907)\n",
        "dir_sup = (-22.468308146632634, -43.090613595700944)\n",
        "dir_inf = (-22.54379578448828, -43.089926950223095)"
      ],
      "metadata": {
        "id": "yHB8VmWtKVxk"
      },
      "execution_count": null,
      "outputs": []
    },
    {
      "cell_type": "code",
      "source": [
        "#BASE\n",
        "b = haversine(esq_inf, dir_inf)\n",
        "b"
      ],
      "metadata": {
        "id": "6GQy23OqNJSf",
        "colab": {
          "base_uri": "https://localhost:8080/"
        },
        "outputId": "5b82cc13-bab1-4403-df71-aec61973951e"
      },
      "execution_count": null,
      "outputs": [
        {
          "output_type": "execute_result",
          "data": {
            "text/plain": [
              "18.123130282684006"
            ]
          },
          "metadata": {},
          "execution_count": 21
        }
      ]
    },
    {
      "cell_type": "code",
      "source": [
        "#ALTURA\n",
        "h = haversine(esq_inf, esq_sup)\n",
        "h"
      ],
      "metadata": {
        "id": "5ebgNH5L_HVn",
        "colab": {
          "base_uri": "https://localhost:8080/"
        },
        "outputId": "a1fc6e52-aa29-43b7-a81c-ea537bc4c536"
      },
      "execution_count": null,
      "outputs": [
        {
          "output_type": "execute_result",
          "data": {
            "text/plain": [
              "7.970873438413739"
            ]
          },
          "metadata": {},
          "execution_count": 22
        }
      ]
    },
    {
      "cell_type": "markdown",
      "source": [
        "Foi definido percorrer 500m em 500m"
      ],
      "metadata": {
        "id": "opfS1ax6yxIR"
      }
    },
    {
      "cell_type": "code",
      "source": [
        "bloco_base = 0.500\n",
        "b /= bloco_base\n",
        "B = int(b)\n",
        "B"
      ],
      "metadata": {
        "id": "eIaRV4V7-4zk",
        "colab": {
          "base_uri": "https://localhost:8080/"
        },
        "outputId": "06c0b142-3303-47e4-f7dd-c0d7a4d91c92"
      },
      "execution_count": null,
      "outputs": [
        {
          "output_type": "execute_result",
          "data": {
            "text/plain": [
              "36"
            ]
          },
          "metadata": {},
          "execution_count": 23
        }
      ]
    },
    {
      "cell_type": "code",
      "source": [
        "bloco_altura = 0.500\n",
        "h /= bloco_altura\n",
        "H = int(h)\n",
        "H"
      ],
      "metadata": {
        "id": "J8fz59bYMF34",
        "colab": {
          "base_uri": "https://localhost:8080/"
        },
        "outputId": "20d4acd7-225a-4b05-a6c8-d273f3098764"
      },
      "execution_count": null,
      "outputs": [
        {
          "output_type": "execute_result",
          "data": {
            "text/plain": [
              "15"
            ]
          },
          "metadata": {},
          "execution_count": 24
        }
      ]
    },
    {
      "cell_type": "code",
      "source": [
        "#VALOR DO GRID\n",
        "val_grid = ('36x15')"
      ],
      "metadata": {
        "id": "vJ0PGy8_NIoc"
      },
      "execution_count": null,
      "outputs": []
    },
    {
      "cell_type": "code",
      "source": [
        "x = bloco_base/2\n",
        "x"
      ],
      "metadata": {
        "id": "DNssG_KjOM1H",
        "colab": {
          "base_uri": "https://localhost:8080/"
        },
        "outputId": "8f55ad35-1dad-4ff3-dfaf-899f36453dcf"
      },
      "execution_count": null,
      "outputs": [
        {
          "output_type": "execute_result",
          "data": {
            "text/plain": [
              "0.25"
            ]
          },
          "metadata": {},
          "execution_count": 26
        }
      ]
    },
    {
      "cell_type": "code",
      "source": [
        "y = bloco_altura/2\n",
        "y"
      ],
      "metadata": {
        "id": "xLWlJWIeOSKE",
        "colab": {
          "base_uri": "https://localhost:8080/"
        },
        "outputId": "2d985bee-e1e4-4510-d1b7-ef3e7843afe0"
      },
      "execution_count": null,
      "outputs": [
        {
          "output_type": "execute_result",
          "data": {
            "text/plain": [
              "0.25"
            ]
          },
          "metadata": {},
          "execution_count": 27
        }
      ]
    },
    {
      "cell_type": "code",
      "source": [
        "pontos_centroide = ('0.25km, 0.25km') #para X (cmç em 0.250km e anda de 0.500km em 0.500km), para Y (cmç em 0.250km e anda de 0.500km em 0.500km)"
      ],
      "metadata": {
        "id": "Dudx-oY4SF5n"
      },
      "execution_count": null,
      "outputs": []
    },
    {
      "cell_type": "markdown",
      "source": [
        "PRÉ - PROCESSAMENTO DOS DADOS"
      ],
      "metadata": {
        "id": "Ndotndda8R6M"
      }
    },
    {
      "cell_type": "code",
      "source": [
        "import pandas as pd"
      ],
      "metadata": {
        "id": "cMyrNOAippKg"
      },
      "execution_count": null,
      "outputs": []
    },
    {
      "cell_type": "code",
      "source": [
        "df = pd.read_csv('/content/drive/MyDrive/Colab Notebooks/15-02-2022/data.csv', sep=';', decimal=',', index_col=False)\n",
        "#df = df.rename(columns={'longitude':'DATAHORA', 'latitude':'latitude', 'nomeEstacao': 'longitude'})"
      ],
      "metadata": {
        "id": "p5ceI4E1txmh"
      },
      "execution_count": null,
      "outputs": []
    },
    {
      "cell_type": "code",
      "source": [
        "df.describe()"
      ],
      "metadata": {
        "colab": {
          "base_uri": "https://localhost:8080/",
          "height": 300
        },
        "id": "32xMJrt4pr8u",
        "outputId": "9c7caf66-6afc-470b-926d-6f6dc5aad537"
      },
      "execution_count": null,
      "outputs": [
        {
          "output_type": "execute_result",
          "data": {
            "text/plain": [
              "           latitude     longitude   valorMedida\n",
              "count  12994.000000  12994.000000  12994.000000\n",
              "mean     -43.146612    -22.435940      0.360400\n",
              "std        0.064907      0.085396      1.326348\n",
              "min      -43.249000    -22.548000      0.000000\n",
              "25%      -43.209475    -22.524907      0.000000\n",
              "50%      -43.134000    -22.427000      0.000000\n",
              "75%      -43.095000    -22.374000      0.200000\n",
              "max      -43.046000    -22.258000     33.000000"
            ],
            "text/html": [
              "\n",
              "  <div id=\"df-1d53ea56-1e10-4dfa-86c8-ed80e4b08f7a\">\n",
              "    <div class=\"colab-df-container\">\n",
              "      <div>\n",
              "<style scoped>\n",
              "    .dataframe tbody tr th:only-of-type {\n",
              "        vertical-align: middle;\n",
              "    }\n",
              "\n",
              "    .dataframe tbody tr th {\n",
              "        vertical-align: top;\n",
              "    }\n",
              "\n",
              "    .dataframe thead th {\n",
              "        text-align: right;\n",
              "    }\n",
              "</style>\n",
              "<table border=\"1\" class=\"dataframe\">\n",
              "  <thead>\n",
              "    <tr style=\"text-align: right;\">\n",
              "      <th></th>\n",
              "      <th>latitude</th>\n",
              "      <th>longitude</th>\n",
              "      <th>valorMedida</th>\n",
              "    </tr>\n",
              "  </thead>\n",
              "  <tbody>\n",
              "    <tr>\n",
              "      <th>count</th>\n",
              "      <td>12994.000000</td>\n",
              "      <td>12994.000000</td>\n",
              "      <td>12994.000000</td>\n",
              "    </tr>\n",
              "    <tr>\n",
              "      <th>mean</th>\n",
              "      <td>-43.146612</td>\n",
              "      <td>-22.435940</td>\n",
              "      <td>0.360400</td>\n",
              "    </tr>\n",
              "    <tr>\n",
              "      <th>std</th>\n",
              "      <td>0.064907</td>\n",
              "      <td>0.085396</td>\n",
              "      <td>1.326348</td>\n",
              "    </tr>\n",
              "    <tr>\n",
              "      <th>min</th>\n",
              "      <td>-43.249000</td>\n",
              "      <td>-22.548000</td>\n",
              "      <td>0.000000</td>\n",
              "    </tr>\n",
              "    <tr>\n",
              "      <th>25%</th>\n",
              "      <td>-43.209475</td>\n",
              "      <td>-22.524907</td>\n",
              "      <td>0.000000</td>\n",
              "    </tr>\n",
              "    <tr>\n",
              "      <th>50%</th>\n",
              "      <td>-43.134000</td>\n",
              "      <td>-22.427000</td>\n",
              "      <td>0.000000</td>\n",
              "    </tr>\n",
              "    <tr>\n",
              "      <th>75%</th>\n",
              "      <td>-43.095000</td>\n",
              "      <td>-22.374000</td>\n",
              "      <td>0.200000</td>\n",
              "    </tr>\n",
              "    <tr>\n",
              "      <th>max</th>\n",
              "      <td>-43.046000</td>\n",
              "      <td>-22.258000</td>\n",
              "      <td>33.000000</td>\n",
              "    </tr>\n",
              "  </tbody>\n",
              "</table>\n",
              "</div>\n",
              "      <button class=\"colab-df-convert\" onclick=\"convertToInteractive('df-1d53ea56-1e10-4dfa-86c8-ed80e4b08f7a')\"\n",
              "              title=\"Convert this dataframe to an interactive table.\"\n",
              "              style=\"display:none;\">\n",
              "        \n",
              "  <svg xmlns=\"http://www.w3.org/2000/svg\" height=\"24px\"viewBox=\"0 0 24 24\"\n",
              "       width=\"24px\">\n",
              "    <path d=\"M0 0h24v24H0V0z\" fill=\"none\"/>\n",
              "    <path d=\"M18.56 5.44l.94 2.06.94-2.06 2.06-.94-2.06-.94-.94-2.06-.94 2.06-2.06.94zm-11 1L8.5 8.5l.94-2.06 2.06-.94-2.06-.94L8.5 2.5l-.94 2.06-2.06.94zm10 10l.94 2.06.94-2.06 2.06-.94-2.06-.94-.94-2.06-.94 2.06-2.06.94z\"/><path d=\"M17.41 7.96l-1.37-1.37c-.4-.4-.92-.59-1.43-.59-.52 0-1.04.2-1.43.59L10.3 9.45l-7.72 7.72c-.78.78-.78 2.05 0 2.83L4 21.41c.39.39.9.59 1.41.59.51 0 1.02-.2 1.41-.59l7.78-7.78 2.81-2.81c.8-.78.8-2.07 0-2.86zM5.41 20L4 18.59l7.72-7.72 1.47 1.35L5.41 20z\"/>\n",
              "  </svg>\n",
              "      </button>\n",
              "      \n",
              "  <style>\n",
              "    .colab-df-container {\n",
              "      display:flex;\n",
              "      flex-wrap:wrap;\n",
              "      gap: 12px;\n",
              "    }\n",
              "\n",
              "    .colab-df-convert {\n",
              "      background-color: #E8F0FE;\n",
              "      border: none;\n",
              "      border-radius: 50%;\n",
              "      cursor: pointer;\n",
              "      display: none;\n",
              "      fill: #1967D2;\n",
              "      height: 32px;\n",
              "      padding: 0 0 0 0;\n",
              "      width: 32px;\n",
              "    }\n",
              "\n",
              "    .colab-df-convert:hover {\n",
              "      background-color: #E2EBFA;\n",
              "      box-shadow: 0px 1px 2px rgba(60, 64, 67, 0.3), 0px 1px 3px 1px rgba(60, 64, 67, 0.15);\n",
              "      fill: #174EA6;\n",
              "    }\n",
              "\n",
              "    [theme=dark] .colab-df-convert {\n",
              "      background-color: #3B4455;\n",
              "      fill: #D2E3FC;\n",
              "    }\n",
              "\n",
              "    [theme=dark] .colab-df-convert:hover {\n",
              "      background-color: #434B5C;\n",
              "      box-shadow: 0px 1px 3px 1px rgba(0, 0, 0, 0.15);\n",
              "      filter: drop-shadow(0px 1px 2px rgba(0, 0, 0, 0.3));\n",
              "      fill: #FFFFFF;\n",
              "    }\n",
              "  </style>\n",
              "\n",
              "      <script>\n",
              "        const buttonEl =\n",
              "          document.querySelector('#df-1d53ea56-1e10-4dfa-86c8-ed80e4b08f7a button.colab-df-convert');\n",
              "        buttonEl.style.display =\n",
              "          google.colab.kernel.accessAllowed ? 'block' : 'none';\n",
              "\n",
              "        async function convertToInteractive(key) {\n",
              "          const element = document.querySelector('#df-1d53ea56-1e10-4dfa-86c8-ed80e4b08f7a');\n",
              "          const dataTable =\n",
              "            await google.colab.kernel.invokeFunction('convertToInteractive',\n",
              "                                                     [key], {});\n",
              "          if (!dataTable) return;\n",
              "\n",
              "          const docLinkHtml = 'Like what you see? Visit the ' +\n",
              "            '<a target=\"_blank\" href=https://colab.research.google.com/notebooks/data_table.ipynb>data table notebook</a>'\n",
              "            + ' to learn more about interactive tables.';\n",
              "          element.innerHTML = '';\n",
              "          dataTable['output_type'] = 'display_data';\n",
              "          await google.colab.output.renderOutput(dataTable, element);\n",
              "          const docLink = document.createElement('div');\n",
              "          docLink.innerHTML = docLinkHtml;\n",
              "          element.appendChild(docLink);\n",
              "        }\n",
              "      </script>\n",
              "    </div>\n",
              "  </div>\n",
              "  "
            ]
          },
          "metadata": {},
          "execution_count": 31
        }
      ]
    },
    {
      "cell_type": "code",
      "source": [
        "df[df['nomeEstacao']=='Vila Rica']['valorMedida'].sum()"
      ],
      "metadata": {
        "colab": {
          "base_uri": "https://localhost:8080/"
        },
        "id": "kjbuX6TEStVZ",
        "outputId": "fdc33fb7-cf6a-419d-ce98-49eb0722f0c6"
      },
      "execution_count": null,
      "outputs": [
        {
          "output_type": "execute_result",
          "data": {
            "text/plain": [
              "156.15"
            ]
          },
          "metadata": {},
          "execution_count": 32
        }
      ]
    },
    {
      "cell_type": "code",
      "source": [
        "temp_pattern = 10 #quantas medidas passadas serão usadas para prever as medidas para frente\n",
        "#batch_size = 1 #corresponde ao valor de amostras que serão processadas em conjunto durante o processo de optimização\n",
        "NumeroDeModelos = 1 #atributos utilizados"
      ],
      "metadata": {
        "id": "K1ti5sHDTD_a"
      },
      "execution_count": null,
      "outputs": []
    },
    {
      "cell_type": "markdown",
      "source": [
        "Sem gerador"
      ],
      "metadata": {
        "id": "xRjNZJNyTZlY"
      }
    },
    {
      "cell_type": "code",
      "source": [
        "x = df[df['nomeEstacao']=='Vila Rica']['valorMedida'].values"
      ],
      "metadata": {
        "id": "3w6fKKknTXep"
      },
      "execution_count": null,
      "outputs": []
    },
    {
      "cell_type": "code",
      "source": [
        "x.shape"
      ],
      "metadata": {
        "colab": {
          "base_uri": "https://localhost:8080/"
        },
        "id": "Dh0ArOKBTeR0",
        "outputId": "9bfc661e-8913-4e2c-c2ba-e24661a8f791"
      },
      "execution_count": null,
      "outputs": [
        {
          "output_type": "execute_result",
          "data": {
            "text/plain": [
              "(629,)"
            ]
          },
          "metadata": {},
          "execution_count": 35
        }
      ]
    },
    {
      "cell_type": "code",
      "source": [
        "listaX = []\n",
        "listaY = []\n",
        "\n",
        "for i in range(x.shape[0] - temp_pattern):\n",
        "  listaX.append(x[i:(i+temp_pattern)])\n",
        "  listaY.append(x[i+temp_pattern])"
      ],
      "metadata": {
        "id": "SPX6YRkFTq4v"
      },
      "execution_count": null,
      "outputs": []
    },
    {
      "cell_type": "code",
      "source": [
        "for i in range(len(listaX)):\n",
        "  listaX[i].shape = (1, temp_pattern)"
      ],
      "metadata": {
        "id": "1VTKEnWTWC5t"
      },
      "execution_count": null,
      "outputs": []
    },
    {
      "cell_type": "code",
      "source": [
        "len(listaX)"
      ],
      "metadata": {
        "colab": {
          "base_uri": "https://localhost:8080/"
        },
        "id": "U28dtI3UVbds",
        "outputId": "c2a73dfc-bee6-42a6-cc18-c55bffbeaf21"
      },
      "execution_count": null,
      "outputs": [
        {
          "output_type": "execute_result",
          "data": {
            "text/plain": [
              "619"
            ]
          },
          "metadata": {},
          "execution_count": 38
        }
      ]
    },
    {
      "cell_type": "code",
      "source": [
        "listaX[0].shape"
      ],
      "metadata": {
        "colab": {
          "base_uri": "https://localhost:8080/"
        },
        "id": "RDttZli4Vghy",
        "outputId": "a7e1f070-ba69-46a8-8bf3-29c75606fd3b"
      },
      "execution_count": null,
      "outputs": [
        {
          "output_type": "execute_result",
          "data": {
            "text/plain": [
              "(1, 10)"
            ]
          },
          "metadata": {},
          "execution_count": 39
        }
      ]
    },
    {
      "cell_type": "code",
      "source": [
        "np.array(listaY).shape"
      ],
      "metadata": {
        "colab": {
          "base_uri": "https://localhost:8080/"
        },
        "id": "c6IYGcPsWjcb",
        "outputId": "8691684f-d1db-476a-caae-a96f6c01d3b1"
      },
      "execution_count": null,
      "outputs": [
        {
          "output_type": "execute_result",
          "data": {
            "text/plain": [
              "(619,)"
            ]
          },
          "metadata": {},
          "execution_count": 40
        }
      ]
    },
    {
      "cell_type": "code",
      "source": [
        "listaX = np.concatenate(listaX, axis=0)"
      ],
      "metadata": {
        "id": "3RcCKfA1VgoP"
      },
      "execution_count": null,
      "outputs": []
    },
    {
      "cell_type": "code",
      "source": [
        "listaY = np.array(listaY)"
      ],
      "metadata": {
        "id": "1wPysOOZWW8C"
      },
      "execution_count": null,
      "outputs": []
    },
    {
      "cell_type": "code",
      "source": [
        "listaX = np.expand_dims(listaX, axis=-1)"
      ],
      "metadata": {
        "id": "utvyIvXtW9qM"
      },
      "execution_count": null,
      "outputs": []
    },
    {
      "cell_type": "code",
      "source": [
        "listaY = np.expand_dims(listaY, axis=-1)"
      ],
      "metadata": {
        "id": "mFzbo0G-XSTK"
      },
      "execution_count": null,
      "outputs": []
    },
    {
      "cell_type": "code",
      "source": [
        "listaX.shape"
      ],
      "metadata": {
        "colab": {
          "base_uri": "https://localhost:8080/"
        },
        "id": "PoxTiaLrXWw4",
        "outputId": "a118dcfc-6977-4e6b-c179-c9001588ef3c"
      },
      "execution_count": null,
      "outputs": [
        {
          "output_type": "execute_result",
          "data": {
            "text/plain": [
              "(619, 10, 1)"
            ]
          },
          "metadata": {},
          "execution_count": 45
        }
      ]
    },
    {
      "cell_type": "code",
      "source": [
        "listaY.shape"
      ],
      "metadata": {
        "colab": {
          "base_uri": "https://localhost:8080/"
        },
        "id": "THCAT8J4XZJ1",
        "outputId": "df9a89bb-7b7b-451c-b82e-32b2b37990ff"
      },
      "execution_count": null,
      "outputs": [
        {
          "output_type": "execute_result",
          "data": {
            "text/plain": [
              "(619, 1)"
            ]
          },
          "metadata": {},
          "execution_count": 46
        }
      ]
    },
    {
      "cell_type": "code",
      "source": [
        "from tensorflow.keras.layers import LSTM,Dense\n",
        "from tensorflow.keras.models import Sequential"
      ],
      "metadata": {
        "id": "RVDqXkq0XmRt"
      },
      "execution_count": null,
      "outputs": []
    },
    {
      "cell_type": "code",
      "source": [
        "Modelo=Sequential()\n",
        "Modelo.add(LSTM(units=50,return_sequences=True,input_shape=(temp_pattern,NumeroDeModelos)))\n",
        "Modelo.add(LSTM(units=15,return_sequences=True))\n",
        "Modelo.add(LSTM(units=13,return_sequences=True))\n",
        "Modelo.add(LSTM(units=17,return_sequences=True))\n",
        "Modelo.add(LSTM(units=12,return_sequences=False))\n",
        "Modelo.add(Dense(NumeroDeModelos,activation='linear'))"
      ],
      "metadata": {
        "id": "yf3e_UFEXvms"
      },
      "execution_count": null,
      "outputs": []
    },
    {
      "cell_type": "code",
      "source": [
        "Modelo.summary()"
      ],
      "metadata": {
        "colab": {
          "base_uri": "https://localhost:8080/"
        },
        "id": "5jHUcq9kYGuK",
        "outputId": "c47e31de-b4ed-46d1-f7ae-68b294e54d1a"
      },
      "execution_count": null,
      "outputs": [
        {
          "output_type": "stream",
          "name": "stdout",
          "text": [
            "Model: \"sequential\"\n",
            "_________________________________________________________________\n",
            " Layer (type)                Output Shape              Param #   \n",
            "=================================================================\n",
            " lstm (LSTM)                 (None, 10, 50)            10400     \n",
            "                                                                 \n",
            " lstm_1 (LSTM)               (None, 10, 15)            3960      \n",
            "                                                                 \n",
            " lstm_2 (LSTM)               (None, 10, 13)            1508      \n",
            "                                                                 \n",
            " lstm_3 (LSTM)               (None, 10, 17)            2108      \n",
            "                                                                 \n",
            " lstm_4 (LSTM)               (None, 12)                1440      \n",
            "                                                                 \n",
            " dense (Dense)               (None, 1)                 13        \n",
            "                                                                 \n",
            "=================================================================\n",
            "Total params: 19,429\n",
            "Trainable params: 19,429\n",
            "Non-trainable params: 0\n",
            "_________________________________________________________________\n"
          ]
        }
      ]
    },
    {
      "cell_type": "code",
      "source": [
        "from keras.callbacks import ModelCheckpoint\n",
        "\n",
        "ch=ModelCheckpoint('Pesos.h5',save_best_only=True)"
      ],
      "metadata": {
        "id": "7VWFKR3kYkOz"
      },
      "execution_count": null,
      "outputs": []
    },
    {
      "cell_type": "code",
      "source": [
        "def RelativeError(y_true,y_pred):\n",
        "  import keras.backend as K\n",
        "  epislon=1e-8\n",
        "  y_true=y_true+epislon\n",
        "  Erro=100*K.mean(K.abs(  (y_true-y_pred)/y_true))\n",
        "  return(Erro)"
      ],
      "metadata": {
        "id": "MJaNo4eIaOu6"
      },
      "execution_count": null,
      "outputs": []
    },
    {
      "cell_type": "code",
      "source": [
        "Modelo.compile(loss='mse',optimizer='adam')"
      ],
      "metadata": {
        "id": "j516-bkGYXPt"
      },
      "execution_count": null,
      "outputs": []
    },
    {
      "cell_type": "code",
      "source": [
        "H=Modelo.fit(listaX,listaY,epochs=10,verbose=1,validation_split=0.3,callbacks=[ch])"
      ],
      "metadata": {
        "colab": {
          "base_uri": "https://localhost:8080/"
        },
        "id": "6Wn5W8rlYYNX",
        "outputId": "8ab6f7ec-1144-4094-b90f-00fa7c3339c8"
      },
      "execution_count": null,
      "outputs": [
        {
          "output_type": "stream",
          "name": "stdout",
          "text": [
            "Epoch 1/10\n",
            "14/14 [==============================] - 23s 263ms/step - loss: 0.4947 - val_loss: 0.1535\n",
            "Epoch 2/10\n",
            "14/14 [==============================] - 0s 27ms/step - loss: 0.4433 - val_loss: 0.1869\n",
            "Epoch 3/10\n",
            "14/14 [==============================] - 0s 28ms/step - loss: 0.4413 - val_loss: 0.1586\n",
            "Epoch 4/10\n",
            "14/14 [==============================] - 0s 29ms/step - loss: 0.4374 - val_loss: 0.1731\n",
            "Epoch 5/10\n",
            "14/14 [==============================] - 0s 29ms/step - loss: 0.4366 - val_loss: 0.1567\n",
            "Epoch 6/10\n",
            "14/14 [==============================] - 0s 31ms/step - loss: 0.4331 - val_loss: 0.1658\n",
            "Epoch 7/10\n",
            "14/14 [==============================] - 0s 32ms/step - loss: 0.4328 - val_loss: 0.1580\n",
            "Epoch 8/10\n",
            "14/14 [==============================] - 0s 32ms/step - loss: 0.4306 - val_loss: 0.1575\n",
            "Epoch 9/10\n",
            "14/14 [==============================] - 0s 33ms/step - loss: 0.4317 - val_loss: 0.1649\n",
            "Epoch 10/10\n",
            "14/14 [==============================] - 0s 32ms/step - loss: 0.4320 - val_loss: 0.1547\n"
          ]
        }
      ]
    },
    {
      "cell_type": "code",
      "source": [
        "from tensorflow.keras.models import load_model"
      ],
      "metadata": {
        "id": "K-EArIcFZ6mY"
      },
      "execution_count": null,
      "outputs": []
    },
    {
      "cell_type": "code",
      "source": [
        "Modelo = load_model('Pesos.h5')"
      ],
      "metadata": {
        "id": "eXmwnvutaEzr"
      },
      "execution_count": null,
      "outputs": []
    },
    {
      "cell_type": "code",
      "source": [
        "predicao = Modelo.predict(listaX)"
      ],
      "metadata": {
        "id": "Wf7j5-pOYrv0"
      },
      "execution_count": null,
      "outputs": []
    },
    {
      "cell_type": "code",
      "source": [
        "import matplotlib.pyplot as plt"
      ],
      "metadata": {
        "id": "JwlPZATwY6Mj"
      },
      "execution_count": null,
      "outputs": []
    },
    {
      "cell_type": "code",
      "source": [
        "plt.plot(listaY)\n",
        "plt.plot(predicao)"
      ],
      "metadata": {
        "colab": {
          "base_uri": "https://localhost:8080/",
          "height": 283
        },
        "id": "D7CPOLinZA6M",
        "outputId": "f8533182-b4b3-43da-ae7e-61060e9357c1"
      },
      "execution_count": null,
      "outputs": [
        {
          "output_type": "execute_result",
          "data": {
            "text/plain": [
              "[<matplotlib.lines.Line2D at 0x7fa3d0a80fd0>]"
            ]
          },
          "metadata": {},
          "execution_count": 58
        },
        {
          "output_type": "display_data",
          "data": {
            "text/plain": [
              "<Figure size 432x288 with 1 Axes>"
            ],
            "image/png": "[encoded data removed]"
          },
          "metadata": {
            "needs_background": "light"
          }
        }
      ]
    }
  ]
}